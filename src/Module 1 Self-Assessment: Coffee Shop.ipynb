{
 "cells": [
  {
   "cell_type": "markdown",
   "metadata": {},
   "source": [
    "# Module 1 Self-Assessment: Coffee Shop\n",
    "\n",
    "This self-assessment asks you to practice skills covered in this module, addressing specifically the following objectives:\n",
    "\n",
    "- Demonstrate the use of basic programming tools, including syntax basics, defining variables, and accepting user input.\n",
    "- Use the string data type in an application, as well as a variety of string operations, including splitting, indexing, and slicing.\n",
    "- Use numbers and number operations in an application.\n",
    "- Use boolean values in an application, especially in the use of conditional statements.\n",
    "- Use conditional statements to determine the outcome of a program.\n",
    "\n",
    "Complete as much of this activity as you can based on what you have learned so far, referencing the learning content only as necessary. You may find it useful to plan out the program using a flowchart or pseudocode before you start building the program itself.\n",
    "\n",
    "Write the program in the code editor or IDE of your choice and run the program to make sure there are no errors."
   ]
  },
  {
   "cell_type": "markdown",
   "metadata": {},
   "source": [
    "\n",
    "## Description\n",
    "Write a program that will calculate the cost of a custom cup of coffee at a gourmet coffee shop, based on the size of the cup, the type of coffee selected, and flavors that can be added to the coffee. It should complete the following steps:\n",
    "\n",
    "1. Ask the user what size cup they want, choosing between small, medium, and large.\n",
    "2. Ask the user what kind of coffee they want, choosing between brewed, espresso, and cold brew.\n",
    "3. Ask the user what flavoring they want, if any. Choices include hazelnut, vanilla, and caramel.\n",
    "4. Calculate the price of the cup using the following values:\n",
    "    - Size:\n",
    "        - small: $2\n",
    "        - medium: $3\n",
    "        - large: $4\n",
    "    - Type:\n",
    "        - brewed: no additional cost\n",
    "        - espresso: 50 cents\n",
    "        - cold brew: $1\n",
    "    - Flavoring:\n",
    "        - None: no additional cost\n",
    "        - All other options: 50 cents\n",
    "5. Display a statement that summarizes what the user ordered.\n",
    "6. Display the total cost of the cup of coffee as well as the cost with a 15% tip, in phrases that explain the values to the user. Round the cost with tip to two decimal places.\n",
    "    - For example, if the user asks for a medium-sized espresso with hazelnut flavoring, the total should be $4; the total with a tip should be $4.60."
   ]
  },
  {
   "cell_type": "markdown",
   "metadata": {},
   "source": [
    "#### Sample Output\n",
    "Here is an example of what the user might see when they run this program:\n",
    "\n",
    "```text\n",
    "Do you want small, medium, or large? small\n",
    "Do you want brewed, espresso, or cold press? espresso\n",
    "Do you want a flavored syrup? (Yes or No) yes\n",
    "Do you want hazelnut, vanilla, or caramel? vanilla\n",
    "You asked for a small cup of espresso coffee with vanilla syrup.\n",
    "Your cup of coffee costs 3.0\n",
    "The price with a tip is 3.45\n",
    "```"
   ]
  },
  {
   "cell_type": "markdown",
   "metadata": {},
   "source": [
    "> #### Tips\n",
    "> Build the program one condition at a time, checking that each condition works as expected before adding the next condition.\n",
    "> Include the user's options in the prompt, so the user knows what values are acceptable answers to each question.\n",
    "> Test all possible answers to make sure they work and produce the expected outcome."
   ]
  },
  {
   "cell_type": "markdown",
   "metadata": {},
   "source": [
    "### Requirements\n",
    "- Add your name and a current date to a commented line at the top of the code.\n",
    "- Use meaningful variable names to clearly identify the values in the program.\n",
    "- The user should be able to enter text values using any case without causing errors.\n",
    "- All output should be clear and meaningful to the user."
   ]
  },
  {
   "cell_type": "markdown",
   "metadata": {},
   "source": [
    "## Checklist\n",
    "When you have finished, use the following checklist to make sure you have completed all parts of the task:\n",
    "\n",
    "- Your name and a current date appear in a comment at the top of the program.\n",
    "- The program prompts the user for the size of the coffee and accepts the values small, medium, or large as input.\n",
    "- The program prompts the user for the type of coffee and accepts the values brewed, espresso, or cold brew as input.\n",
    "- The program prompts the user for a flavoring and accepts the values none, hazelnut, vanilla, or caramel.\n",
    "- The program displays a summary of the user's order.\n",
    "- The program displays a total that corresponds to the price of the cup of coffee based on the user's choices.\n",
    "- The program displays a total that corresponds to the price of the cup of coffee with a 15% tip.\n"
   ]
  },
  {
   "cell_type": "markdown",
   "metadata": {},
   "source": [
    "## Code\n",
    "\n",
    "Authored by *Dan Buxton* on *15/04/2024*"
   ]
  },
  {
   "cell_type": "code",
   "execution_count": 5,
   "metadata": {},
   "outputs": [],
   "source": [
    "# Imports\n",
    "import pyfiglet"
   ]
  },
  {
   "cell_type": "code",
   "execution_count": 11,
   "metadata": {},
   "outputs": [],
   "source": [
    "# Functions\n",
    "def gourmetcoffeeBanner():\n",
    "    try:\n",
    "        banner_text = pyfiglet.figlet_format(\"Gourmet Coffee\")\n",
    "    except:\n",
    "        banner_text = \"---=== Gourmet Coffee ===---\"\n",
    "    print(banner_text)\n",
    "\n",
    "\n",
    "def ask4Coffee():\n",
    "    size = input(\"Do you want small, medium, or large? \").lower().strip()[0]\n",
    "    sizeOptions = {\"s\": \"small\", \"m\": \"medium\", \"l\": \"large\"}\n",
    "    size = sizeOptions.get(size, None)\n",
    "\n",
    "    method = input(\"Do you want brewed, espresso, or cold press? \").lower().strip()[0]\n",
    "    methodOptions = {\"b\": \"brewed\", \"e\": \"espresso\", \"c\": \"cold press\"}\n",
    "    method = methodOptions.get(method, None)\n",
    "\n",
    "    syrup = \"y\" in input(\"Do you want a flavored syrup? (Yes or No) \").lower()\n",
    "    if syrup:\n",
    "        flavour = input(\"Do you want hazelnut, vanilla, or caramel? \")\n",
    "        flavourOptions = {\"h\": \"hazelnut\", \"v\": \"vanilla\", \"c\": \"caramel\"}\n",
    "        flavour = flavourOptions.get(flavour, None)\n",
    "    else:\n",
    "        flavour = None\n",
    "\n",
    "    return size, method, syrup, flavour\n",
    "\n",
    "\n",
    "def calculateOrder(size, method, syrup):\n",
    "    match size:\n",
    "        case \"small\":\n",
    "            cost = 2.0\n",
    "        case \"medium\":\n",
    "            cost = 3.0\n",
    "        case \"large\":\n",
    "            cost = 4.0\n",
    "\n",
    "    match method:\n",
    "        case \"brewed\":\n",
    "            cost += 0.0\n",
    "        case \"espresso\":\n",
    "            cost += 0.5\n",
    "        case \"cold press\":\n",
    "            cost += 1.0\n",
    "\n",
    "    if syrup:\n",
    "        cost += 0.5\n",
    "\n",
    "    return cost\n",
    "\n",
    "\n",
    "def addTip(cost):\n",
    "    return cost * 1.15\n",
    "\n",
    "\n",
    "def stateCoffeeOrder(size, method, syrup, flavour):\n",
    "    print(f\"You asked for a {size} cup of {method} coffee\", end=\" \")\n",
    "    if syrup:\n",
    "        print(f\"with {flavour} syrup\", end=\"\")\n",
    "    print(\".\")\n",
    "\n",
    "    cost = calculateOrder(size, method, syrup)\n",
    "    print(f\"Your cup of coffee costs £%.2f\" % cost)\n",
    "    print(f\"The price with a tip is £%.2f\" % addTip(cost))"
   ]
  },
  {
   "cell_type": "code",
   "execution_count": 12,
   "metadata": {},
   "outputs": [
    {
     "name": "stdout",
     "output_type": "stream",
     "text": [
      "  ____                                 _      ____       __  __           \n",
      " / ___| ___  _   _ _ __ _ __ ___   ___| |_   / ___|___  / _|/ _| ___  ___ \n",
      "| |  _ / _ \\| | | | '__| '_ ` _ \\ / _ \\ __| | |   / _ \\| |_| |_ / _ \\/ _ \\\n",
      "| |_| | (_) | |_| | |  | | | | | |  __/ |_  | |__| (_) |  _|  _|  __/  __/\n",
      " \\____|\\___/ \\__,_|_|  |_| |_| |_|\\___|\\__|  \\____\\___/|_| |_|  \\___|\\___|\n",
      "                                                                          \n",
      "\n",
      "You asked for a small cup of espresso coffee with vanilla syrup.\n",
      "Your cup of coffee costs £3.00\n",
      "The price with a tip is £3.45\n"
     ]
    }
   ],
   "source": [
    "# Main\n",
    "\n",
    "gourmetcoffeeBanner()\n",
    "size, method, syrup, flavour = ask4Coffee()\n",
    "stateCoffeeOrder(size, method, syrup, flavour)"
   ]
  }
 ],
 "metadata": {
  "kernelspec": {
   "display_name": "Python 3",
   "language": "python",
   "name": "python3"
  },
  "language_info": {
   "codemirror_mode": {
    "name": "ipython",
    "version": 3
   },
   "file_extension": ".py",
   "mimetype": "text/x-python",
   "name": "python",
   "nbconvert_exporter": "python",
   "pygments_lexer": "ipython3",
   "version": "3.11.4"
  }
 },
 "nbformat": 4,
 "nbformat_minor": 2
}
