{
 "cells": [
  {
   "cell_type": "markdown",
   "metadata": {},
   "source": [
    "# Module 2 Self-Assessment: Text Count Analysis\n",
    "\n",
    "This exercise asks you to combine the Python skills you have learned into a single application. We will start with a paragraph of text and end up with a frequency count of the distinct words in that text.\n",
    "\n",
    "This assessment includes the following steps:\n",
    "\n",
    "- Convert a string to lowercase characters.\n",
    "- Split the lowercase string into individual words.\n",
    "- Count the number of words in the lowercase string.\n",
    "- Determine the number of distinct words in the lowercase string.\n",
    "- Calculate the number of times each word appears in the lowercase string.\n",
    "- Remove the punctuation from the lowercase string.\n",
    "- Perform a count analysis on the text without punctuation characters.\n",
    "\n",
    "Complete each step individually, moving to the next step only after the current step works as expected. Because later steps depend on variables created in earlier steps, you may need to run all steps up to the current step before running the code in the current step. Jupyter Notebook includes a Run All Above command in the Cell menu that will allow you to run all previous steps, making the earlier variables available to the current cell."
   ]
  },
  {
   "cell_type": "markdown",
   "metadata": {},
   "source": [
    "### Step 1: Normalize the Letter Casing\n",
    "Because all content in Python is case-sensitive, start by normalizing the case so that all characters are in the same case.\n",
    "\n",
    "Here, we start with a string of text taken from E. Abbott's 1884 novel, Flatland (link to book). Convert the existing text to lowercase characters, stored in a variable named s_lower.\n",
    "\n",
    "The output should look like this:\n",
    "\n",
    "```text\n",
    "imagine a vast sheet of paper on which straight lines, triangles, squares, pentagons, hexagons, and other figures, instead of remaining fixed in their places, move freely about, on or in the surface, but without the power of rising above or sinking below it, very much like shadows — only hard and with luminous edges — and you will then have a pretty correct notion of my country and countrymen. alas, a few years ago, i should have said \"my universe\": but now my mind has been opened to higher views of things.\n",
    "```\n",
    "\n",
    "Here's the code to start with:"
   ]
  },
  {
   "cell_type": "code",
   "execution_count": 4,
   "metadata": {},
   "outputs": [
    {
     "name": "stdout",
     "output_type": "stream",
     "text": [
      "Flatland in lowercase: imagine a vast sheet of paper on which straight lines, triangles, squares, pentagons, hexagons, and other figures, instead of remaining fixed in their places, move freely about, on or in the surface, but without the power of rising above or sinking below it, very much like shadows - only hard and with luminous edges - and you will then have a pretty correct notion of my country and countrymen. alas, a few years ago, i should have said \"my universe\": but now my mind has been opened to higher views of things.\n"
     ]
    }
   ],
   "source": [
    "s = \"\"\"Imagine a vast sheet of paper on which straight Lines, Triangles, Squares, Pentagons, Hexagons, and other figures, instead of remaining fixed in their places, move freely about, on or in the surface, but without the power of rising above or sinking below it, very much like shadows - only hard and with luminous edges - and you will then have a pretty correct notion of my country and countrymen. Alas, a few years ago, I should have said \"my universe\": but now my mind has been opened to higher views of things.\"\"\"\n",
    "\n",
    "s_lower = s.lower()\n",
    "print(f\"Flatland in lowercase: {s_lower}\")"
   ]
  },
  {
   "cell_type": "markdown",
   "metadata": {},
   "source": [
    "### Step 2: Split the String into Words\n",
    "Using the str.split() method, divide the s_lower string into separate words. The output should be a list of strings.\n",
    "\n",
    "Store the results in a list called words.\n",
    "\n",
    "Printing the list should look like this:\n",
    "\n",
    "```Python\n",
    "['imagine', 'a', 'vast', 'sheet', 'of', 'paper', 'on', 'which', 'straight', 'lines,', 'triangles,', 'squares,', 'pentagons,', 'hexagons,', 'and', 'other', 'figures,', 'instead', 'of', 'remaining', 'fixed', 'in', 'their', 'places,', 'move', 'freely', 'about,', 'on', 'or', 'in', 'the', 'surface,', 'but', 'without', 'the', 'power', 'of', 'rising', 'above', 'or', 'sinking', 'below', 'it,', 'very', 'much', 'like', 'shadows', '—', 'only', 'hard', 'and', 'with', 'luminous', 'edges', '—', 'and', 'you', 'will', 'then', 'have', 'a', 'pretty', 'correct', 'notion', 'of', 'my', 'country', 'and', 'countrymen.', 'alas,', 'a', 'few', 'years', 'ago,', 'i', 'should', 'have', 'said', '\"my', 'universe\":', 'but', 'now', 'my', 'mind', 'has', 'been', 'opened', 'to', 'higher', 'views', 'of', 'things.']\n",
    "```\n",
    "\n",
    "Here's the code to start with:"
   ]
  },
  {
   "cell_type": "code",
   "execution_count": 5,
   "metadata": {},
   "outputs": [
    {
     "name": "stdout",
     "output_type": "stream",
     "text": [
      "Split words: ['imagine', 'a', 'vast', 'sheet', 'of', 'paper', 'on', 'which', 'straight', 'lines,', 'triangles,', 'squares,', 'pentagons,', 'hexagons,', 'and', 'other', 'figures,', 'instead', 'of', 'remaining', 'fixed', 'in', 'their', 'places,', 'move', 'freely', 'about,', 'on', 'or', 'in', 'the', 'surface,', 'but', 'without', 'the', 'power', 'of', 'rising', 'above', 'or', 'sinking', 'below', 'it,', 'very', 'much', 'like', 'shadows', '-', 'only', 'hard', 'and', 'with', 'luminous', 'edges', '-', 'and', 'you', 'will', 'then', 'have', 'a', 'pretty', 'correct', 'notion', 'of', 'my', 'country', 'and', 'countrymen.', 'alas,', 'a', 'few', 'years', 'ago,', 'i', 'should', 'have', 'said', '\"my', 'universe\":', 'but', 'now', 'my', 'mind', 'has', 'been', 'opened', 'to', 'higher', 'views', 'of', 'things.']\n"
     ]
    }
   ],
   "source": [
    "words = list()\n",
    "words = s_lower.split()\n",
    "\n",
    "print(f\"Split words: {words}\")"
   ]
  },
  {
   "cell_type": "markdown",
   "metadata": {},
   "source": [
    "### Step 3: Count the Words\n",
    "Use the len method to return the number of words in the string.\n",
    "\n",
    "At this point, for the initial string, the count should be 92; this includes duplicate instances of words."
   ]
  },
  {
   "cell_type": "code",
   "execution_count": 6,
   "metadata": {},
   "outputs": [
    {
     "name": "stdout",
     "output_type": "stream",
     "text": [
      "Word count: 92\n"
     ]
    }
   ],
   "source": [
    "print(f\"Word count: {len(words)}\")"
   ]
  },
  {
   "cell_type": "markdown",
   "metadata": {},
   "source": [
    "### Step 4: Count the Distinct Words\n",
    "Use a set to compute the number of distinct words in the string, meaning that only one instance of each word is counted and duplicates are ignored.\n",
    "\n",
    "At this point, for the initial string, the count of distinct words should be 75."
   ]
  },
  {
   "cell_type": "code",
   "execution_count": 7,
   "metadata": {},
   "outputs": [
    {
     "name": "stdout",
     "output_type": "stream",
     "text": [
      "Distinct word count: 75\n"
     ]
    }
   ],
   "source": [
    "wordset = set(words)\n",
    "\n",
    "print(f\"Distinct word count: {len(wordset)}\")"
   ]
  },
  {
   "cell_type": "markdown",
   "metadata": {},
   "source": [
    "### Step 5: Compute the Word Frequencies\n",
    "The next step is to compute the frequency of the distinct words in our string. In this step, we look at the list of words (including duplicates) and count each instance of each word. The result will be a dictionary where the keys are the distinct words in the list and the values are the number of times each word appears in the list."
   ]
  },
  {
   "cell_type": "code",
   "execution_count": 13,
   "metadata": {},
   "outputs": [],
   "source": [
    "def calcWordFreq(words):\n",
    "    result = {}\n",
    "    for word in words:\n",
    "        if word in result:\n",
    "            result[word] += 1\n",
    "        else:\n",
    "            result[word] = 1\n",
    "    return result"
   ]
  },
  {
   "cell_type": "markdown",
   "metadata": {},
   "source": [
    "For practice, start with the list saved as `w` in the example code below. Some of the words in this list appear more than once, and we need a way to identify distinct words and count their frequency.\n",
    "\n",
    "To this end, the script should perform the following steps:\n",
    "\n",
    "1. Create an empty dictionary.\n",
    "    - We use a dictionary here so that we can create key-value pairs where the key is the word and the value represents the number of times that word appears in the original list.\n",
    "2. Create a loop that does the following:\n",
    "    - Look at each word in the original list and compare that word to existing keys in the dictionary.\n",
    "    - If the word does not match a key in the dictionary, add it to the dictionary as a new key with the value 1.\n",
    "    - If the word already exists as a key in the dictionary, the value for that key increments by 1 to count the number of occurrences of the word.\n",
    "\n",
    "The output for the original starting list should look like this:\n",
    "\n",
    "```Python\n",
    "{'haythem': 2, 'is': 1, 'eating': 1, 'tacos.': 1, 'loves': 1, 'tacos': 1, '': 1, ':': 1}\n",
    "```\n",
    "\n",
    "In the results, you will notice that \"tacos.\" is distinct from \"tacos\" because of the period. Also, both the colon item and the empty item appear in the results. We will ignore punctuation for now and fix those problems in the next step.\n",
    "\n",
    "Here's the code to start with:"
   ]
  },
  {
   "cell_type": "code",
   "execution_count": 14,
   "metadata": {},
   "outputs": [
    {
     "name": "stdout",
     "output_type": "stream",
     "text": [
      "{'haythem': 2, 'is': 1, 'eating': 1, 'tacos.': 1, 'loves': 1, 'tacos': 1, '': 1, ':': 1}\n"
     ]
    }
   ],
   "source": [
    "w = [\"haythem\", \"is\", \"eating\", \"tacos.\", \"haythem\", \"loves\", \"tacos\", \"\", \":\"]\n",
    "\n",
    "freq_occur = dict()\n",
    "freq_occur = calcWordFreq(w)\n",
    "\n",
    "print(freq_occur)"
   ]
  },
  {
   "cell_type": "markdown",
   "metadata": {},
   "source": [
    "Once you get the example above working, use the pattern to compute the frequency count for each word in the original string s_lower.\n",
    "\n",
    "The dictionary should look like this when finished:\n",
    "\n",
    "```Python\n",
    "{'imagine': 1, 'a': 3, 'vast': 1, 'sheet': 1, 'of': 5, 'paper': 1, 'on': 2, 'which': 1, 'straight': 1, 'lines,': 1, 'triangles,': 1, 'squares,': 1, 'pentagons,': 1, 'hexagons,': 1, 'and': 4, 'other': 1, 'figures,': 1, 'instead': 1, 'remaining': 1, 'fixed': 1, 'in': 2, 'their': 1, 'places,': 1, 'move': 1, 'freely': 1, 'about,': 1, 'or': 2, 'the': 2, 'surface,': 1, 'but': 2, 'without': 1, 'power': 1, 'rising': 1, 'above': 1, 'sinking': 1, 'below': 1, 'it,': 1, 'very': 1, 'much': 1, 'like': 1, 'shadows': 1, '-': 2, 'only': 1, 'hard': 1, 'with': 1, 'luminous': 1, 'edges': 1, 'you': 1, 'will': 1, 'then': 1, 'have': 2, 'pretty': 1, 'correct': 1, 'notion': 1, 'my': 2, 'country': 1, 'countrymen.': 1, 'alas,': 1, 'few': 1, 'years': 1, 'ago,': 1, 'i': 1, 'should': 1, 'said': 1, '\"my': 1, 'universe\":': 1, 'now': 1, 'mind': 1, 'has': 1, 'been': 1, 'opened': 1, 'to': 1, 'higher': 1, 'views': 1, 'things.': 1}\n",
    "```\n",
    "\n",
    "Here's the starting code for this step:"
   ]
  },
  {
   "cell_type": "code",
   "execution_count": 17,
   "metadata": {},
   "outputs": [
    {
     "name": "stdout",
     "output_type": "stream",
     "text": [
      "{'imagine': 1, 'a': 3, 'vast': 1, 'sheet': 1, 'of': 5, 'paper': 1, 'on': 2, 'which': 1, 'straight': 1, 'lines,': 1, 'triangles,': 1, 'squares,': 1, 'pentagons,': 1, 'hexagons,': 1, 'and': 4, 'other': 1, 'figures,': 1, 'instead': 1, 'remaining': 1, 'fixed': 1, 'in': 2, 'their': 1, 'places,': 1, 'move': 1, 'freely': 1, 'about,': 1, 'or': 2, 'the': 2, 'surface,': 1, 'but': 2, 'without': 1, 'power': 1, 'rising': 1, 'above': 1, 'sinking': 1, 'below': 1, 'it,': 1, 'very': 1, 'much': 1, 'like': 1, 'shadows': 1, '-': 2, 'only': 1, 'hard': 1, 'with': 1, 'luminous': 1, 'edges': 1, 'you': 1, 'will': 1, 'then': 1, 'have': 2, 'pretty': 1, 'correct': 1, 'notion': 1, 'my': 2, 'country': 1, 'countrymen.': 1, 'alas,': 1, 'few': 1, 'years': 1, 'ago,': 1, 'i': 1, 'should': 1, 'said': 1, '\"my': 1, 'universe\":': 1, 'now': 1, 'mind': 1, 'has': 1, 'been': 1, 'opened': 1, 'to': 1, 'higher': 1, 'views': 1, 'things.': 1}\n"
     ]
    }
   ],
   "source": [
    "word_freq = dict()\n",
    "word_freq = calcWordFreq(words)\n",
    "\n",
    "print(word_freq)"
   ]
  },
  {
   "cell_type": "markdown",
   "metadata": {},
   "source": [
    "### Step 6: Remove Punctuation Marks\n",
    "To fix the problems caused by punctuation, we need to remove the punctuation marks from the items in the list."
   ]
  },
  {
   "cell_type": "code",
   "execution_count": 31,
   "metadata": {},
   "outputs": [
    {
     "name": "stdout",
     "output_type": "stream",
     "text": [
      "['!', '\"', '#', '$', '%', '&', \"'\", '(', ')', '*', '+', ',', '-', '.', '/', ':', ';', '<', '=', '>', '?', '@', '[', '\\\\', ']', '^', '_', '`', '{', '|', '}', '~']\n"
     ]
    }
   ],
   "source": [
    "import string\n",
    "\n",
    "print(list(string.punctuation))\n",
    "\n",
    "\n",
    "def removePunc(words):\n",
    "    stripped = [word.strip(string.punctuation) for word in words]\n",
    "    return [word for word in stripped if word != \"\"]"
   ]
  },
  {
   "cell_type": "markdown",
   "metadata": {},
   "source": []
  },
  {
   "cell_type": "markdown",
   "metadata": {},
   "source": [
    "Again, as a practice activity, we will start with the same list `w` from the previous exercise. The existing code performs the following steps:\n",
    "\n",
    "- Import the Python string module, which includes all punctuation characters.\n",
    "- Generate a list of punctuation characters from string.punctuation and print the list to verify that it includes the characters we want to exclude from our results.\n",
    "- Define the list we want to start with.\n",
    "- Create a new, empty w_clean list that will hold the words after we have removed punctuation from each item in w.\n",
    "\n",
    "Complete this script so that it looks at each item in `w` and performs the following tasks:\n",
    "\n",
    "- If the item is empty, ignore it.\n",
    "- If the item includes only a punctuation mark, ignore it.\n",
    "- If the item includes a punctuation mark as the first character or as the last character, remove that character from the word and add the cleaned word to w_clean.\n",
    "- If the item does not include punctuation, add it to the list w_clean as a separate token.\n",
    "\n",
    "The final version of w_clean should include seven items:\n",
    "\n",
    "```Python\n",
    "['haythem', 'is', 'eating', 'tacos', 'haythem', 'loves', 'tacos']\n",
    "```\n",
    "\n",
    "Here's the starting code for this short example:"
   ]
  },
  {
   "cell_type": "code",
   "execution_count": 32,
   "metadata": {},
   "outputs": [
    {
     "name": "stdout",
     "output_type": "stream",
     "text": [
      "['haythem', 'is', 'eating', 'tacos', 'haythem', 'loves', 'tacos']\n",
      "7\n"
     ]
    }
   ],
   "source": [
    "w = [\"haythem!\", \"is\", \"eating\", \"tacos.\", \".haythem\", \"loves\", \"tacos\", \"\", \":\"]\n",
    "\n",
    "w_clean = list()\n",
    "w_clean = removePunc(w)\n",
    "\n",
    "print(w_clean)\n",
    "print(len(w_clean))"
   ]
  },
  {
   "cell_type": "markdown",
   "metadata": {},
   "source": [
    "Use the same pattern to remove the punctuation from the initial s string and count the number of times each word appears in that string.\n",
    "\n",
    "The output should include each distinct word, regardless of case or punctuation, along with the number of times each word appears. Also display the number of distinct words in the string.\n",
    "\n",
    "The output for the original string should look like:\n",
    "```Python\n",
    "['imagine', 'a', 'vast', 'sheet', 'of', 'paper', 'on', 'which', 'straight', 'lines', 'triangles', 'squares', 'pentagons', 'hexagons', 'and', 'other', 'figures', 'instead', 'of', 'remaining', 'fixed', 'in', 'their', 'places', 'move', 'freely', 'about', 'on', 'or', 'in', 'the', 'surface', 'but', 'without', 'the', 'power', 'of', 'rising', 'above', 'or', 'sinking', 'below', 'it', 'very', 'much', 'like', 'shadows', 'only', 'hard', 'and', 'with', 'luminous', 'edges', 'and', 'you', 'will', 'then', 'have', 'a', 'pretty', 'correct', 'notion', 'of', 'my', 'country', 'and', 'countrymen', 'alas', 'a', 'few', 'years', 'ago', 'i', 'should', 'have', 'said', 'my', 'universe\"', 'but', 'now', 'my', 'mind', 'has', 'been', 'opened', 'to', 'higher', 'views', 'of', 'things']\n",
    "90\n",
    "```\n",
    "\n",
    "Here's your starting code for this step:"
   ]
  },
  {
   "cell_type": "code",
   "execution_count": 34,
   "metadata": {},
   "outputs": [
    {
     "name": "stdout",
     "output_type": "stream",
     "text": [
      "['imagine', 'a', 'vast', 'sheet', 'of', 'paper', 'on', 'which', 'straight', 'lines,', 'triangles,', 'squares,', 'pentagons,', 'hexagons,', 'and', 'other', 'figures,', 'instead', 'of', 'remaining', 'fixed', 'in', 'their', 'places,', 'move', 'freely', 'about,', 'on', 'or', 'in', 'the', 'surface,', 'but', 'without', 'the', 'power', 'of', 'rising', 'above', 'or', 'sinking', 'below', 'it,', 'very', 'much', 'like', 'shadows', '-', 'only', 'hard', 'and', 'with', 'luminous', 'edges', '-', 'and', 'you', 'will', 'then', 'have', 'a', 'pretty', 'correct', 'notion', 'of', 'my', 'country', 'and', 'countrymen.', 'alas,', 'a', 'few', 'years', 'ago,', 'i', 'should', 'have', 'said', '\"my', 'universe\":', 'but', 'now', 'my', 'mind', 'has', 'been', 'opened', 'to', 'higher', 'views', 'of', 'things.']\n",
      "['imagine', 'a', 'vast', 'sheet', 'of', 'paper', 'on', 'which', 'straight', 'lines', 'triangles', 'squares', 'pentagons', 'hexagons', 'and', 'other', 'figures', 'instead', 'of', 'remaining', 'fixed', 'in', 'their', 'places', 'move', 'freely', 'about', 'on', 'or', 'in', 'the', 'surface', 'but', 'without', 'the', 'power', 'of', 'rising', 'above', 'or', 'sinking', 'below', 'it', 'very', 'much', 'like', 'shadows', 'only', 'hard', 'and', 'with', 'luminous', 'edges', 'and', 'you', 'will', 'then', 'have', 'a', 'pretty', 'correct', 'notion', 'of', 'my', 'country', 'and', 'countrymen', 'alas', 'a', 'few', 'years', 'ago', 'i', 'should', 'have', 'said', 'my', 'universe', 'but', 'now', 'my', 'mind', 'has', 'been', 'opened', 'to', 'higher', 'views', 'of', 'things']\n",
      "90\n"
     ]
    }
   ],
   "source": [
    "print(words)\n",
    "w_clean = list()\n",
    "w_clean = removePunc(words)\n",
    "\n",
    "print(w_clean)\n",
    "print(len(w_clean))"
   ]
  },
  {
   "cell_type": "markdown",
   "metadata": {},
   "source": [
    ">Challenge\n",
    ">Note that in the output above, universe\" still includes a quotation mark. Why? How can you fix it? The solution you come up with for this challenge should not remove punctuation marks inside words, like can't or well-known.\n"
   ]
  },
  {
   "cell_type": "markdown",
   "metadata": {},
   "source": [
    "### Step 7: Put It All Together\n",
    "Finally, create a single script that performs all of the following operations on the original s string.\n",
    "\n",
    "1. Convert the string to lowercase characters.\n",
    "2. Split the lowercase string into individual words.\n",
    "3. Remove the punctuation from the lowercase words. Assume that all punctuation is either the first character or the last character of each item in the list.\n",
    "4. Perform a count analysis on the words without punctuation characters.\n",
    "5. Display the dictionary with the word counts and the number of distinct words in the original string.\n"
   ]
  },
  {
   "cell_type": "code",
   "execution_count": 36,
   "metadata": {},
   "outputs": [
    {
     "name": "stdout",
     "output_type": "stream",
     "text": [
      "There are 90 words\n",
      "{'imagine': 1, 'a': 3, 'vast': 1, 'sheet': 1, 'of': 5, 'paper': 1, 'on': 2, 'which': 1, 'straight': 1, 'lines': 1, 'triangles': 1, 'squares': 1, 'pentagons': 1, 'hexagons': 1, 'and': 4, 'other': 1, 'figures': 1, 'instead': 1, 'remaining': 1, 'fixed': 1, 'in': 2, 'their': 1, 'places': 1, 'move': 1, 'freely': 1, 'about': 1, 'or': 2, 'the': 2, 'surface': 1, 'but': 2, 'without': 1, 'power': 1, 'rising': 1, 'above': 1, 'sinking': 1, 'below': 1, 'it': 1, 'very': 1, 'much': 1, 'like': 1, 'shadows': 1, 'only': 1, 'hard': 1, 'with': 1, 'luminous': 1, 'edges': 1, 'you': 1, 'will': 1, 'then': 1, 'have': 2, 'pretty': 1, 'correct': 1, 'notion': 1, 'my': 3, 'country': 1, 'countrymen': 1, 'alas': 1, 'few': 1, 'years': 1, 'ago': 1, 'i': 1, 'should': 1, 'said': 1, 'universe': 1, 'now': 1, 'mind': 1, 'has': 1, 'been': 1, 'opened': 1, 'to': 1, 'higher': 1, 'views': 1, 'things': 1}\n",
      "with 73 distinct words.\n"
     ]
    }
   ],
   "source": [
    "def allTogether(s):\n",
    "    new_s = removePunc(s.lower().split(\" \"))\n",
    "    print(f\"There are {len(new_s)} words\")\n",
    "    print(calcWordFreq(new_s))\n",
    "    print(f\"with {len(set(new_s))} distinct words.\")\n",
    "\n",
    "\n",
    "allTogether(s)"
   ]
  },
  {
   "cell_type": "markdown",
   "metadata": {},
   "source": [
    "### Check Yourself\n",
    "After you have completed the last step, verify that your code works correctly without any errors. Use the following checklist to verify the results:\n",
    "\n",
    "- Use print to display the list that contains the individual words from the original string.\n",
    "  - Verify that all letters are lowercase.\n",
    "  - Verify that none of the words include a punctuation mark as the first or last character.\n",
    "- Export the list to a set and use len to count the words in the set.\n",
    "- Use len to count the number of items in the dictionary used to calculate frequency. The result should be the same as the number of words in the set.\n",
    "- Choose a few words in the original string and manually count the number of times each of those words appears in the string.\n",
    "- Use print to display the dictionary.\n",
    "  - Verify that your count of the selected words matches the results shown in the dictionary.\n",
    "  - Verify that the keywords in the dictionary are all lowercase and do not include punctuation as the first or last character.\n",
    "- You should be able to run the same script using any string of words. Substitute your own string for the original string and run the script again."
   ]
  }
 ],
 "metadata": {
  "kernelspec": {
   "display_name": "Python 3",
   "language": "python",
   "name": "python3"
  },
  "language_info": {
   "codemirror_mode": {
    "name": "ipython",
    "version": 3
   },
   "file_extension": ".py",
   "mimetype": "text/x-python",
   "name": "python",
   "nbconvert_exporter": "python",
   "pygments_lexer": "ipython3",
   "version": "3.11.4"
  }
 },
 "nbformat": 4,
 "nbformat_minor": 2
}
