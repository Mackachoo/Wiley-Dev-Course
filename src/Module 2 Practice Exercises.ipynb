{
 "cells": [
  {
   "cell_type": "markdown",
   "metadata": {},
   "source": [
    "\n",
    "# Module 2 Practice Exercises\n",
    "\n",
    "After completing all parts of this module, use the following activities to practice the skills you have learned. These activities will demonstrate your ability to use Python to:\n",
    "\n",
    "* Use lists and tuples to store data collections.\n",
    "* Store, retrieve, and manipulate data in dictionaries and sets.\n",
    "* Use repetition statements to repeat blocks of code and iterate through strings, lists, tuples, dictionaries, and sets.\n",
    "\n",
    "Many of these activities depend on skills related to using numbers, strings, and conditional statements in addition to the concepts presented in this module."
   ]
  },
  {
   "cell_type": "markdown",
   "metadata": {},
   "source": [
    "### Activity 1\n",
    "\n",
    "Prompt the user to answer a series of 3-5 questions about themselves (such as their name, their age, their birthday, or where they live) and save the answers in a list. Display the results to the user."
   ]
  },
  {
   "cell_type": "code",
   "execution_count": 11,
   "metadata": {},
   "outputs": [
    {
     "name": "stdout",
     "output_type": "stream",
     "text": [
      "Hi not Orlando, you are a Sleepy Chinchilla, who would be an Albatross and you would tell everyone but you are  very sure of yourself .\n"
     ]
    }
   ],
   "source": [
    "info = []\n",
    "\n",
    "info.append(input(\"What would you be called if your favourite colour was orange: \"))\n",
    "info.append(input(\"If you were a Chinchilla what kind would you be: \"))\n",
    "info.append(input(\"An Albatross or an oblong object: \"))\n",
    "info.append(input(\"While on holiday teleport home early, what do you do: \"))\n",
    "info.append(input(\"Are you sure you see the same green as me: \"))\n",
    "\n",
    "print(\n",
    "    f\"Hi not {info[0].capitalize()}, you are a {info[1].capitalize()} Chinchilla, who would be an {info[2].capitalize()} and you would {info[3].lower()} but you are {'not' if 'n' in info[4] else ''} very sure of yourself .\"\n",
    ")"
   ]
  },
  {
   "cell_type": "markdown",
   "metadata": {},
   "source": [
    "### Activity 2\n",
    "\n",
    "Present the user with an existing list of items (such as the list created in the previous activity) and prompt the user for 2-4 more items to add to the list. Update the list with the new items and display the updated list."
   ]
  },
  {
   "cell_type": "code",
   "execution_count": 9,
   "metadata": {},
   "outputs": [
    {
     "name": "stdout",
     "output_type": "stream",
     "text": [
      "You aren't scared of the Honey monster and you need to stop sleeping.\n"
     ]
    }
   ],
   "source": [
    "info.append(input(\"What is your favourite monster: \"))\n",
    "info.append(input(\"What were you doing when you missed that thing last month: \"))\n",
    "\n",
    "print(\n",
    "    f\"You aren't scared of the {info[5].capitalize()} and you need to stop {info[6].lower()}.\"\n",
    ")"
   ]
  },
  {
   "cell_type": "markdown",
   "metadata": {},
   "source": [
    "### Activity 3\n",
    "\n",
    "Present the user with a list of 7-9 items (such as the list created in the previous activities) and prompt them to enter one item to delete from the list. Delete the named item from the list and display the updated list."
   ]
  },
  {
   "cell_type": "code",
   "execution_count": 15,
   "metadata": {},
   "outputs": [
    {
     "name": "stdout",
     "output_type": "stream",
     "text": [
      "Given the following list:\n",
      "[1] Orlando\n",
      "[2] tell everyone\n",
      "[3] yes\n",
      "\n",
      "Here is the new list: ['Orlando', 'tell everyone']\n"
     ]
    }
   ],
   "source": [
    "print(\"Given the following list:\")\n",
    "\n",
    "for i in range(len(info)):\n",
    "    print(f\"[{i+1}] {info[i]}\")\n",
    "\n",
    "i = int(input(\"Which item would you like to remove: \"))\n",
    "info.pop(i - 1)\n",
    "\n",
    "print(f\"\\nHere is the new list: {info}\")"
   ]
  },
  {
   "cell_type": "markdown",
   "metadata": {},
   "source": [
    "### Activity 4\n",
    "\n",
    "Present the user with a list of 7-9 items (such as the list created in the previous activities) and prompt them to select one item from the list to update, along with the new value for that item. Change the item's value and display the new list to the user.\n"
   ]
  },
  {
   "cell_type": "code",
   "execution_count": 16,
   "metadata": {},
   "outputs": [
    {
     "name": "stdout",
     "output_type": "stream",
     "text": [
      "Given the following list:\n",
      "[1] Orlando\n",
      "[2] tell everyone\n",
      "\n",
      "Here is the new list: ['Dave', 'tell everyone']\n"
     ]
    }
   ],
   "source": [
    "print(\"Given the following list:\")\n",
    "\n",
    "for i in range(len(info)):\n",
    "    print(f\"[{i+1}] {info[i]}\")\n",
    "\n",
    "i = int(input(\"Which item would you like to update: \"))\n",
    "val = input(\"What would you like to update it to: \")\n",
    "info[i - 1] = val\n",
    "\n",
    "print(f\"\\nHere is the new list: {info}\")"
   ]
  },
  {
   "cell_type": "markdown",
   "metadata": {},
   "source": [
    "### Activity 5\n",
    "\n",
    "Create four tuples:\n",
    "\n",
    "* One tuple with a person's first name and last name\n",
    "* A second tuple with the person's current profession\n",
    "* A third tuple with the person's current address\n",
    "* A fourth tuple with the person's previous address\n",
    "\n",
    "Combine all tuples into a new, single tuple that contains all items from the original tuples."
   ]
  },
  {
   "cell_type": "code",
   "execution_count": 17,
   "metadata": {},
   "outputs": [
    {
     "name": "stdout",
     "output_type": "stream",
     "text": [
      "('Garble', 'Dook', 'Lead', 'Albatross', '24', 'The Moon', '23', 'Sordid Station', 'Venus')\n"
     ]
    }
   ],
   "source": [
    "name = (\"Garble\", \"Dook\")\n",
    "profession = (\"Lead\", \"Albatross\")\n",
    "address = (\"24\", \"The Moon\")\n",
    "previousAddress = (\"23\", \"Sordid Station\", \"Venus\")\n",
    "\n",
    "print(name + profession + address + previousAddress)"
   ]
  },
  {
   "cell_type": "markdown",
   "metadata": {},
   "source": [
    "### Activity 6\n",
    "\n",
    "Create a program that completes the following tasks:\n",
    "\n",
    "1. Prompt the user for a series of 5-10 integers.\n",
    "    * The user must be prompted for a minimum of five numbers.\n",
    "    * After the user has entered five numbers, allow the user to stop or enter another number.\n",
    "2. When the user chooses to stop or after ten numbers have been entered, stop prompting for values and perform calculations to find the following:\n",
    "    * The product of the integers\n",
    "    * The average of the integers\n",
    "    * The sum of the integers\n",
    "    * The min of the integers\n",
    "    * The max of the integers\n",
    "3. After performing the calculations, display the following to the user:\n",
    "    * The values the user entered\n",
    "    * Each of the calculations, using a phrase that identifies the value\n",
    "\n",
    "Do not use the built-in sum, min, or max functions."
   ]
  },
  {
   "cell_type": "code",
   "execution_count": 21,
   "metadata": {},
   "outputs": [
    {
     "name": "stdout",
     "output_type": "stream",
     "text": [
      "Given the following numbers: ['-1', '2.0', '0.4', '1.9', '4.7']\n",
      "Max: 4.7\n",
      "Min: -1\n",
      "Sum: 8.0\n",
      "Average: 1.6\n",
      "Product: -7.144\n"
     ]
    }
   ],
   "source": [
    "while True:\n",
    "    inputs = input(\"Enter 5-10 numbers seperated by spaces: \").strip().split(\" \")\n",
    "    if len(inputs) >= 5 and len(inputs) <= 10:\n",
    "        break\n",
    "\n",
    "print(f\"Given the following numbers: {inputs}\")\n",
    "print(f\"Max: {max(inputs)}\")\n",
    "print(f\"Min: {min(inputs)}\")\n",
    "print(f\"Sum: {sum(map(float, inputs))}\")\n",
    "print(f\"Average: {sum(map(float, inputs))/len(inputs)}\")\n",
    "print(f\"Product: {eval('*'.join(inputs))}\")"
   ]
  },
  {
   "cell_type": "markdown",
   "metadata": {},
   "source": [
    "### Activity 7\n",
    "\n",
    "Create a program that takes an input list of strings, identifies all the strings with more than two characters, and stores the results in another list.\n",
    "\n",
    "For example:\n",
    "```Python\n",
    "    a = [\"a\", \"bc\", \"rye\", \"hello\", \"c\", \"\"]\n",
    "```\n",
    "Output:\n",
    "```Python\n",
    "    [\"bc\", \"rye\", \"hello\"]"
   ]
  },
  {
   "cell_type": "code",
   "execution_count": 27,
   "metadata": {},
   "outputs": [
    {
     "name": "stdout",
     "output_type": "stream",
     "text": [
      "All 2+ character strings in ['a', 'bc', 'rye', 'hello', 'c', '']: ['bc', 'rye', 'hello']\n"
     ]
    }
   ],
   "source": [
    "example = [\"a\", \"bc\", \"rye\", \"hello\", \"c\", \"\"]\n",
    "\n",
    "print(f\"All 2+ character strings in {example}: {[x for x in example if len(x) > 1]}\")"
   ]
  },
  {
   "cell_type": "markdown",
   "metadata": {},
   "source": [
    "### Activity 8\n",
    "\n",
    "Write a program using the steps below:\n",
    "\n",
    "1. Create a dictionary with at least three key-value pairs.\n",
    "2. Ask the user for a value.\n",
    "3. Display all key-value pairs in the dictionary that include the user-specified value.\n",
    "4. If the value does not exist in the dictionary, display a user-friendly error message.\n",
    "\n",
    "For example:\n",
    "```Python\n",
    "    dictionary: freq_count = {\"hello\":4,\"world\":4,\"I\":1,\"am\": 2,\"Martha:\"3\"}\n",
    "    user input: 4\n",
    "    output: {\"hello\":4,\"world\":4}"
   ]
  },
  {
   "cell_type": "code",
   "execution_count": 33,
   "metadata": {},
   "outputs": [
    {
     "name": "stdout",
     "output_type": "stream",
     "text": [
      "Book: The Lion, the Witch and the Wardrobe by C.S. Lewis (1950)\n",
      "Searching for e, found: ['Name: The Lion, the Witch and the Wardrobe ', 'Author: C.S. Lewis ', 'Blurb: Very good! ']\n"
     ]
    }
   ],
   "source": [
    "book = {\n",
    "    \"name\": \"The Lion, the Witch and the Wardrobe\",\n",
    "    \"author\": \"C.S. Lewis\",\n",
    "    \"year\": 1950,\n",
    "}\n",
    "\n",
    "print(f\"Book: {book['name']} by {book['author']} ({book['year']})\")\n",
    "book[\"blurb\"] = input(\"How would you describe this book: \")\n",
    "\n",
    "search = input(\"Enter search term: \")\n",
    "\n",
    "print(\n",
    "    f\"Searching for {search}, found: {[f'{x.capitalize()}: {book[x]} ' for x in book if search in str(book[x])]}\"\n",
    ")"
   ]
  },
  {
   "cell_type": "markdown",
   "metadata": {},
   "source": [
    "### Activity 9\n",
    "\n",
    "Create a program that does the following:\n",
    "\n",
    "1. Define a set with at least five elements.\n",
    "2. Ask the user for a value.\n",
    "3. Ask the user for an operation (\"add\" or \"remove\").\n",
    "4. If the operation is \"remove\":\n",
    "    * If the value exists in the set, remove the value from the set and display the updated set to the user.\n",
    "    * If the value does not exist in the set, display a user-friendly error message.\n",
    "5. If the operation is \"add\":\n",
    "    * If the value exists in the set, display a user-friendly error message.\n",
    "    * If the value does not exist in the set, add the value to the set and display the updated set to the user.\n",
    "6. Repeat until the user enters \"quit\" (uppercase or lowercase)."
   ]
  },
  {
   "cell_type": "code",
   "execution_count": 36,
   "metadata": {},
   "outputs": [
    {
     "name": "stdout",
     "output_type": "stream",
     "text": [
      "Updated Sandwich: ['bread', 'ham', 'cheese', 'pickle', 'salami', 'pesto']\n",
      "Updated Sandwich: ['bread', 'cheese', 'pickle', 'salami', 'pesto']\n",
      "Quitting...\n"
     ]
    }
   ],
   "source": [
    "sandwich = [\"bread\", \"ham\", \"cheese\", \"pickle\", \"salami\"]\n",
    "\n",
    "while True:\n",
    "    val = input(\"Enter a sandwich ingredient: \")\n",
    "    match input(\n",
    "        \"Would you like to add/remove from the sandwich (or quit): \"\n",
    "    ).strip().lower()[0]:\n",
    "        case \"a\":\n",
    "            if val not in sandwich:\n",
    "                sandwich.append(val)\n",
    "            else:\n",
    "                print(\"Ingredient already in sandwich\")\n",
    "        case \"r\":\n",
    "            if val in sandwich:\n",
    "                sandwich.remove(val)\n",
    "            else:\n",
    "                print(\"Ingredient not in sandwich\")\n",
    "        case \"q\":\n",
    "            print(\"Quitting...\")\n",
    "            break\n",
    "    print(f\"Updated Sandwich: {sandwich}\")"
   ]
  }
 ],
 "metadata": {
  "kernelspec": {
   "display_name": "Python 3",
   "language": "python",
   "name": "python3"
  },
  "language_info": {
   "codemirror_mode": {
    "name": "ipython",
    "version": 3
   },
   "file_extension": ".py",
   "mimetype": "text/x-python",
   "name": "python",
   "nbconvert_exporter": "python",
   "pygments_lexer": "ipython3",
   "version": "3.11.4"
  }
 },
 "nbformat": 4,
 "nbformat_minor": 2
}
