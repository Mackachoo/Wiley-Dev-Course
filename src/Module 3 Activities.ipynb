{
 "cells": [
  {
   "cell_type": "markdown",
   "metadata": {},
   "source": [
    "# Module 3 Activities: Using Classes\n",
    "\n",
    "The following activities are based on tools and concepts presented in Module 3. Completing them will demonstrate your ability to:\n",
    "* Create reusable Python functions.\n",
    "* Leverage classes to create solutions to a variety of problems.\n",
    "* Leverage inheritance to create complex and reusable classes.\n"
   ]
  },
  {
   "cell_type": "markdown",
   "metadata": {},
   "source": [
    "### Activity 1\n",
    "Write a program that performs the following tasks:\n",
    "1. Accept at least five and no more than ten integers from the user and store the values in a list.\n",
    "    * Give the user the option to stop input after receiving five numbers.\n",
    "    * Stop accepting input when the user chooses to stop or when there are ten numbers in the list.\n",
    "1. Calculate the average value of the input numbers and use this value as a threshold.\n",
    "1. Create a `find_lower` function that accepts the list of numbers and the threshold value as parameters and then calculates and displays the values from the list that are lower than the threshold value."
   ]
  },
  {
   "cell_type": "code",
   "execution_count": 7,
   "metadata": {},
   "outputs": [
    {
     "name": "stdout",
     "output_type": "stream",
     "text": [
      "[12, 2, 23, 12, 3, 3, 4, 2] are less than the threshold 81.4\n"
     ]
    }
   ],
   "source": [
    "def find_lower(nums, threshold):\n",
    "    print(\n",
    "        f\"{[n for n in nums if n < threshold]} are less than the threshold {threshold}\"\n",
    "    )\n",
    "\n",
    "\n",
    "while True:\n",
    "    inputs = input(\"Enter 5-10 numbers seperated by spaces: \").strip().split(\" \")\n",
    "    if len(inputs) >= 5 and len(inputs) <= 10:\n",
    "        inputs = [int(i) for i in inputs]\n",
    "        break\n",
    "\n",
    "threshold = sum(inputs) / len(inputs)\n",
    "find_lower(inputs, threshold)"
   ]
  },
  {
   "cell_type": "markdown",
   "metadata": {},
   "source": [
    "### Activity 2\n",
    "Create a function that searches a string for an input group of characters and replaces each instance of the group with a new group of characters.\n",
    "\n",
    "For example, the function might be used to replace all occurrences of the phrase \"this is\" with \"this will be.\""
   ]
  },
  {
   "cell_type": "code",
   "execution_count": 2,
   "metadata": {},
   "outputs": [],
   "source": [
    "def replace(string, sub):\n",
    "    return string.replace(sub, \"N/A\")"
   ]
  },
  {
   "cell_type": "markdown",
   "metadata": {},
   "source": [
    "### Activity 3\n",
    "Design a function called `simple_calculator` that performs basic math operations (addition, subtraction, multiplication, division) on two operands.\n",
    "\n",
    "Use the function to create a program that allows the user to perform simple calculations on two numbers. For example, the program should allow the user to input two numbers of their choice, perform the selected operation on the numbers, and display the result."
   ]
  },
  {
   "cell_type": "code",
   "execution_count": 1,
   "metadata": {},
   "outputs": [
    {
     "data": {
      "text/plain": [
       "7.0"
      ]
     },
     "execution_count": 1,
     "metadata": {},
     "output_type": "execute_result"
    }
   ],
   "source": [
    "def simple_calculator(a, b, op):\n",
    "    match op:\n",
    "        case \"+\":\n",
    "            return a + b\n",
    "        case \"-\":\n",
    "            return a - b\n",
    "        case \"*\":\n",
    "            return a * b\n",
    "        case \"/\":\n",
    "            return a / b\n",
    "        case _:\n",
    "            return None\n",
    "\n",
    "\n",
    "simple_calculator(\n",
    "    float(input(\"Enter a number to be used in the calculation: \")),\n",
    "    float(input(\"Enter a second number to be used in the calculation: \")),\n",
    "    input(\"Enter the operand to be used in the calculation: \"),\n",
    ")"
   ]
  },
  {
   "cell_type": "markdown",
   "metadata": {},
   "source": [
    "### Activity 4\n",
    "We use classes in software programs to represent real-world objects. Any object has multiple functions or properties, some of which may be important in one scenario but may not be relevant in another scenario. For this reason, we often need to model objects for specific uses. For example, if we are modeling a building in a GPS mapping system, we would need to know location-specific data, such as its address and GPS coordinates. However, if we are creating a building for a 3-D landscaping system, its size and position within the lot would be more important.\n",
    "\t\n",
    "For each of the objects below, create two separate classes based on the scenarios provided. Each class should include the appropriate properties and methods for that scenario."
   ]
  },
  {
   "cell_type": "markdown",
   "metadata": {},
   "source": [
    "### Activity 5\n",
    "Choose at least five of the classes you created in the previous activity and create at least two inherited classes from each of the classes you select.\n",
    "\n",
    "The inherited classes should be designed for use within the same system as the parent class, but they should be variations on the default object.\n",
    "\n",
    "For example, a building in a 3-D landscaping system could be instantiated as a house, a shed, a garage, or an office building. Each of those variations will inherit from the initial object, but include properties and methods that are specific to it, such as a path to the shed or a driveway for a garage.\n",
    "\n",
    "Finally, choose at least two of your inherited classes and create at least two inherited classes based on those classes. For example, in the 3-D landscaping system, you could have `House` that inherits from `Building`, and then you could have `Ranch` and `Cape_cod` that inherit from `House`."
   ]
  },
  {
   "cell_type": "markdown",
   "metadata": {},
   "source": [
    "* Building\n",
    "    * Model a building as if the class were to be part of a GPS mapping system.\n",
    "    * Model a building as if the class were to be part of a 3-D design system."
   ]
  },
  {
   "cell_type": "code",
   "execution_count": 2,
   "metadata": {},
   "outputs": [],
   "source": [
    "class Building:\n",
    "    def __init__(self, address):\n",
    "        self.address = address\n",
    "\n",
    "\n",
    "class BuildingGPS(Building):\n",
    "    def __init__(self, address, lat, long):\n",
    "        super().__init__(address)\n",
    "        self.lat = lat\n",
    "        self.long = long\n",
    "\n",
    "    def __str__(self):\n",
    "        return f\"{self.address} is located at {self.lat}, {self.long}\"\n",
    "\n",
    "\n",
    "class Building3D(Building):\n",
    "    def __init__(self, address, obj3D):\n",
    "        super().__init__(address)\n",
    "        self.obj3D = obj3D\n",
    "\n",
    "    def getFloorArea():\n",
    "        return self.obj3D.getFloorArea()"
   ]
  },
  {
   "cell_type": "markdown",
   "metadata": {},
   "source": [
    "* Airplane\n",
    "    * Model an airplane as if the class were to be part of an air traffic control system.\n",
    "    * Model an airplane as if the class were to be part of a flight simulator."
   ]
  },
  {
   "cell_type": "code",
   "execution_count": 3,
   "metadata": {},
   "outputs": [],
   "source": [
    "class Airplane:\n",
    "    def __init__(self, airline, model, reg):\n",
    "        self.airline = airline\n",
    "        self.model = model\n",
    "        self.reg = reg\n",
    "\n",
    "    def __str__(self):\n",
    "        return f\"{self.airline} {self.model} with registration {self.reg}\"\n",
    "\n",
    "\n",
    "class AirplaneATC(Airplane):\n",
    "    def __init__(self, airline, model, reg, altitude, heading):\n",
    "        super().__init__(airline, model, reg)\n",
    "        self.altitude = altitude\n",
    "        self.heading = heading\n",
    "\n",
    "    def __str__(self):\n",
    "        return f\"{super().__str__()} with altitude {self.altitude} and heading {self.heading}\"\n",
    "\n",
    "    def radio(self, message):\n",
    "        print(f\"{self.airline} {self.model} {self.reg} says {message}\")\n",
    "\n",
    "\n",
    "class AirplaneSim(Airplane):\n",
    "    def __init__(self, airline, model, reg, x, y, z):\n",
    "        super().__init__(airline, model, reg)\n",
    "        self.x = x\n",
    "        self.y = y\n",
    "        self.z = z\n",
    "\n",
    "    def __str__(self):\n",
    "        return f\"{super().__str__()} is at {self.x}, {self.y}, {self.z}\"\n",
    "\n",
    "    def getPos(self):\n",
    "        return (self.x, self.y, self.z)\n",
    "\n",
    "    def setPos(self, x, y, z):\n",
    "        self.x = x\n",
    "        self.y = y\n",
    "        self.z = z\n",
    "\n",
    "    def getDistance(self, other):\n",
    "        return (\n",
    "            (self.x - other.x) ** 2 + (self.y - other.y) ** 2 + (self.z - other.z) ** 2\n",
    "        ) ** 0.5\n",
    "\n",
    "    def getDistance2D(self, other):\n",
    "        return ((self.x - other.x) ** 2 + (self.y - other.y) ** 2) ** 0.5"
   ]
  },
  {
   "cell_type": "markdown",
   "metadata": {},
   "source": [
    "* Car\n",
    "    * Model a car as if the class were to be part of an inventory system for a car dealership.\n",
    "    * Model a car as if the class were to be part of a video game."
   ]
  },
  {
   "cell_type": "code",
   "execution_count": 4,
   "metadata": {},
   "outputs": [],
   "source": [
    "class Car:\n",
    "    def __init__(self, make, model, reg, colour):\n",
    "        self.make = make\n",
    "        self.model = model\n",
    "        self.reg = reg\n",
    "        self.colour = colour\n",
    "\n",
    "    def __str__(self):\n",
    "        return f\"{self.colour} {self.make} {self.model} with registration {self.reg}\"\n",
    "\n",
    "\n",
    "class CarDS(Car):\n",
    "    def __init__(self, make, model, reg, colour, doors, seats):\n",
    "        super().__init__(make, model, reg, colour)\n",
    "        self.doors = doors\n",
    "        self.seats = seats\n",
    "\n",
    "    def __str__(self):\n",
    "        return f\"{super().__str__()} with {self.doors} doors and {self.seats} seats\"\n",
    "\n",
    "    def filter(self, doors, seats):\n",
    "        if doors == self.doors and seats == self.seats:\n",
    "            return self\n",
    "\n",
    "\n",
    "class CarVG(Car):\n",
    "    def __init__(self, make, model, reg, colour, speed, position, direction):\n",
    "        super().__init__(make, model, reg, colour)\n",
    "        self.topspeed = speed\n",
    "        self.position = position\n",
    "        self.direction = direction\n",
    "\n",
    "    def accelerate(self, acceleration):\n",
    "        self.speed += acceleration\n",
    "        if self.speed > 200:\n",
    "            self.speed = 200\n",
    "\n",
    "    def turn(self, direction):\n",
    "        self.direction += direction\n",
    "\n",
    "    def __str__(self):\n",
    "        return f\"{super().__str__()} at {self.position} facing {self.direction} at {self.speed} km/h\""
   ]
  },
  {
   "cell_type": "markdown",
   "metadata": {},
   "source": [
    "* Ice cream\n",
    "    * Model ice cream as if the class were to be part of the control system at the dairy that makes the ice cream.\n",
    "    * Model ice cream as if the class were to be part of the stocking system at a grocery store."
   ]
  },
  {
   "cell_type": "code",
   "execution_count": 5,
   "metadata": {},
   "outputs": [],
   "source": [
    "class IceCreamControl:\n",
    "    def __init__(self, flavor, quantity):\n",
    "        self.flavor = flavor\n",
    "        self.quantity = quantity\n",
    "\n",
    "    def make_ice_cream(self):\n",
    "        print(f\"Making {self.quantity} liters of {self.flavor} ice cream.\")\n",
    "\n",
    "    def add_flavor(self, new_flavor):\n",
    "        self.flavor = new_flavor\n",
    "\n",
    "    def update_quantity(self, new_quantity):\n",
    "        self.quantity = new_quantity\n",
    "\n",
    "\n",
    "class IceCreamStore:\n",
    "    def __init__(self, id, name, instock, price):\n",
    "        self.id = id\n",
    "        self.name = name\n",
    "        self.instock = instock\n",
    "        self.price = price\n",
    "\n",
    "    def sellItems(n):\n",
    "        if n <= instock:\n",
    "            instock -= n\n",
    "            return n * price\n",
    "        else:\n",
    "            return None\n",
    "\n",
    "    def addStock(n):\n",
    "        instock += n\n",
    "\n",
    "    def __str__(self):\n",
    "        return f\"{self.name} has {self.instock} items in stock at {self.price} each\""
   ]
  },
  {
   "cell_type": "markdown",
   "metadata": {},
   "source": [
    "* Book\n",
    "    * Model a book as if the class were to be part of a publishing system that the author uses to write the book.\n",
    "    * Model a book as if the class were to be part of a library cataloging system."
   ]
  },
  {
   "cell_type": "code",
   "execution_count": 19,
   "metadata": {},
   "outputs": [],
   "source": [
    "class Book:\n",
    "    def __init__(self, title, author, pages):\n",
    "        self.title = title\n",
    "        self.author = author\n",
    "        self.pages = pages\n",
    "\n",
    "    def __str__(self):\n",
    "        return f\"{self.title} by {self.author}\"\n",
    "\n",
    "\n",
    "class BookWriting(Book):\n",
    "    def __init__(self, title, author, pages, body, version):\n",
    "        super().__init__(title, author, pages)\n",
    "        self.body = body\n",
    "        self.version = version\n",
    "\n",
    "    def __str__(self):\n",
    "        return f\"{super().__str__()} is version {self.version}\\n\\n{body}\"\n",
    "\n",
    "    def update(text):\n",
    "        self.body = text\n",
    "\n",
    "\n",
    "class BookLibrary(Book):\n",
    "    def __init__(self, title, author, pages, quantity, holders):\n",
    "        super().__init__(title, author, pages)\n",
    "        self.quantity = quantity\n",
    "        self.holders = holders\n",
    "\n",
    "    def requestBook(self, name):\n",
    "        self.holders.append(name)\n",
    "        if len(self.holders) <= self.quantity:\n",
    "            return f\"{name} has taken out {self}\"\n",
    "        else:\n",
    "            return f\"{name} is in the queue...\"\n",
    "\n",
    "    def returnBook(self, name):\n",
    "        if name not in self.holders:\n",
    "            return \"Error: member does not have book\"\n",
    "        if self.holders.index(name) > self.quantity:\n",
    "            return \"Error: memeber is in queue for book\"\n",
    "\n",
    "        self.holders.remove(name)\n",
    "        if len(self.holders) >= self.quantity:\n",
    "            return f\"{self.holders[self.quantity - 1]} may now take out {self.title}\""
   ]
  },
  {
   "cell_type": "markdown",
   "metadata": {},
   "source": [
    "For each class:\n",
    "* Define properties and determine which will be read/write and which will be read-only.\n",
    "* Implement a constructor to initialize some or all of the property values.\n",
    "* Determine what behaviors the class should have and then define (do not implement) the methods associated with each behavior.\n",
    "\n",
    "> #### Challenge Activity\n",
    "> After completing the assigned classes above, identify at least three other objects not included in the list and at least two specific uses for each of those objects. Create a class for each of the objects you identified and for each of the specific scenarios."
   ]
  },
  {
   "cell_type": "code",
   "execution_count": 20,
   "metadata": {},
   "outputs": [
    {
     "name": "stdout",
     "output_type": "stream",
     "text": [
      "Misha has taken out The Lion, the Witch and the Wardrobe by C. S. Lewis\n",
      "Dan has taken out The Lion, the Witch and the Wardrobe by C. S. Lewis\n",
      "Sara is in the queue...\n",
      "\n",
      "Error: member does not have book\n",
      "Sara may now take out The Lion, the Witch and the Wardrobe\n"
     ]
    }
   ],
   "source": [
    "book = BookLibrary(\"The Lion, the Witch and the Wardrobe\", \"C. S. Lewis\", 312, 2, [])\n",
    "\n",
    "print(book.requestBook(\"Misha\"))\n",
    "print(book.requestBook(\"Dan\"))\n",
    "print(book.requestBook(\"Sara\"))\n",
    "print()\n",
    "print(book.returnBook(\"Jerry\"))\n",
    "print(book.returnBook(\"Misha\"))"
   ]
  }
 ],
 "metadata": {
  "kernelspec": {
   "display_name": "Python 3",
   "language": "python",
   "name": "python3"
  },
  "language_info": {
   "codemirror_mode": {
    "name": "ipython",
    "version": 3
   },
   "file_extension": ".py",
   "mimetype": "text/x-python",
   "name": "python",
   "nbconvert_exporter": "python",
   "pygments_lexer": "ipython3",
   "version": "3.11.4"
  }
 },
 "nbformat": 4,
 "nbformat_minor": 2
}
