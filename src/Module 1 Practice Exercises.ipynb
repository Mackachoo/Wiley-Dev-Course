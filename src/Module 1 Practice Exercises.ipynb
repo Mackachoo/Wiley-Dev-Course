{
 "cells": [
  {
   "cell_type": "markdown",
   "metadata": {},
   "source": [
    "# Module 1 Practice Exercises\n",
    "\n",
    "After completing all parts of this module, use the following activities to practice the skills you have learned. These activities will demonstrate your ability to use Python to:\n",
    "\n",
    "- Demonstrate the use of basic Python tools, including syntax basics, defining variables, and accepting user input.\n",
    "- Use the string data type in Python applications, as well as a variety of string operations, including splitting, indexing, and slicing.\n",
    "- Use numbers and number operations in a Python application.\n",
    "- Use boolean values in a Python application, especially in the use of conditional statements.\n",
    "- Use conditional statements to determine the outcome of a program.\n"
   ]
  },
  {
   "cell_type": "markdown",
   "metadata": {},
   "source": [
    "\n",
    "### Activity 1\n",
    "Create a computer program that performs the following steps:\n",
    "\n",
    "1. Prompt the user for an integer and store the value in a variable.\n",
    "2. Display the data type of the variable that holds the entered data.\n",
    "3. Convert the value to an integer type and store the converted value in a new variable.\n",
    "4. Display the value and type of the new variable in a single sentence. (For example, \"The value is 8 with type integer.\")\n",
    "\n",
    "Run the program and enter a float value at the prompt. What is its value in the last step?\n",
    "\n",
    "Refactor the program, using a float instead of an integer. What happens if you enter an integer rather than a float at the prompt?\n"
   ]
  },
  {
   "cell_type": "code",
   "execution_count": 10,
   "metadata": {},
   "outputs": [
    {
     "name": "stdout",
     "output_type": "stream",
     "text": [
      "The data type of the entered value is: <class 'str'>\n",
      "The value is 7.0 with type <class 'float'>.\n"
     ]
    }
   ],
   "source": [
    "userInput = input(\"Enter an integer: \")\n",
    "print(f\"The data type of the entered value is: {type(userInput)}\")\n",
    "\n",
    "convertedInput = float(userInput)\n",
    "print(f\"The value is {convertedInput} with type {type(convertedInput)}.\")"
   ]
  },
  {
   "cell_type": "markdown",
   "metadata": {},
   "source": [
    "\n",
    "### Activity 2\n",
    "Write a computer program that calculates and displays the current value of a deposit for a given initial deposit, interest rate, how many times interest is calculated per year, and the number of years since the initial deposit.\n",
    "\n",
    "The program should prompt the user for each of the values and use the following formula to calculate the current value of the deposit:\n",
    "\n",
    "$V = P(1 + \\frac r n)^{nt}$\n",
    "\n",
    "where\n",
    "- $V$ -- value\n",
    "- $P$ -- initial deposit\n",
    "- $r$ -- interest rate as a fraction (eg 0.05)\n",
    "- $n$ -- the number of times per year interest is calculated\n",
    "- $t$ -- the number of years since the initial deposit\n",
    "\n",
    "The program should display each of the values entered to the user in a meaningful way (so that the user can easily see what each value represents, along with the results of the calculation.\n",
    "\n"
   ]
  },
  {
   "cell_type": "code",
   "execution_count": 13,
   "metadata": {},
   "outputs": [
    {
     "name": "stdout",
     "output_type": "stream",
     "text": [
      "The value of the investment after 10 years is: £552.56\n"
     ]
    }
   ],
   "source": [
    "def V(P, r, n, t):\n",
    "    return round(P * (1 + r / n) ** (n * t), 2)\n",
    "\n",
    "\n",
    "P = input(\"Please enter the initial deposit: \")\n",
    "r = input(\"Please enter the interest rate as a fraction: \")\n",
    "n = input(\"Please enter the the number of times per year interest is calculated: \")\n",
    "t = input(\"Please enter the the number of years since the initial deposit: \")\n",
    "\n",
    "\n",
    "print(\n",
    "    f\"The value of the investment after {t} years is: £{V(float(P), float(r), float(n), float(t))}\"\n",
    ")"
   ]
  },
  {
   "cell_type": "markdown",
   "metadata": {},
   "source": [
    "### Activity 3\n",
    "Write a computer program that prompts the user for a principal amount, the rate of interest, and the number of days for a loan and then calculates and returns the simple interest for the life of the loan. Use the formula:\n",
    "\n",
    "`interest = principal * rate * days / 365`\n"
   ]
  },
  {
   "cell_type": "code",
   "execution_count": 16,
   "metadata": {},
   "outputs": [
    {
     "name": "stdout",
     "output_type": "stream",
     "text": [
      "The intereste on the loan after 30.0 days is: £4.11\n"
     ]
    }
   ],
   "source": [
    "def interest(principle, rate, days):\n",
    "    return round(principle * rate * days / 365, 2)\n",
    "\n",
    "\n",
    "principle = float(input(\"Please enter the principle amount: \"))\n",
    "rate = float(input(\"Please enter the loan's interest rate as a fraction: \"))\n",
    "days = float(input(\"Please enter the the number of days for the loan: \"))\n",
    "\n",
    "\n",
    "print(\n",
    "    f\"The intereste on the loan after {days} days is: £{interest(principle, rate, days)}\"\n",
    ")"
   ]
  },
  {
   "cell_type": "markdown",
   "metadata": {},
   "source": [
    "### Activity 4\n",
    "Create a computer program that prompts the user for a purchase total and a sales tax rate and then returns the total price of the sale.\n",
    "\n"
   ]
  },
  {
   "cell_type": "code",
   "execution_count": 17,
   "metadata": {},
   "outputs": [
    {
     "name": "stdout",
     "output_type": "stream",
     "text": [
      "The total price of sale is $27.5\n"
     ]
    }
   ],
   "source": [
    "def addTax(purchase, tax):\n",
    "    return round(purchase * (1 + tax / 100), 2)\n",
    "\n",
    "\n",
    "purchase = float(input(\"Please enter the total purchase amount: \"))\n",
    "tax = float(input(\"Please enter the sales tax rate as a percentage (eg 10 for 10%): \"))\n",
    "\n",
    "\n",
    "print(f\"The total price of sale is ${addTax(purchase, tax)}\")"
   ]
  },
  {
   "cell_type": "markdown",
   "metadata": {},
   "source": [
    "### Activity 5\n",
    "Create a computer program that displays three statements that evaluate to True and three statements that evaluate to False.\n",
    "\n",
    "Example:\n",
    "```Python\n",
    "a = 0\n",
    "b = 1 \n",
    "Output: a < b = True\n",
    "```\n"
   ]
  },
  {
   "cell_type": "code",
   "execution_count": 21,
   "metadata": {},
   "outputs": [
    {
     "name": "stdout",
     "output_type": "stream",
     "text": [
      "12 > 5 is True\n",
      "hello == world is False\n",
      " 24 % 3 == 0 is True\n"
     ]
    }
   ],
   "source": [
    "print(f\"12 > 5 is {12 > 5}\")\n",
    "print(f\"hello == world is {'hello' == 'world'}\")\n",
    "print(f\" 24 % 3 == 0 is {24 % 3 == 0}\")"
   ]
  },
  {
   "cell_type": "markdown",
   "metadata": {},
   "source": [
    "### Activity 6\n",
    "Write out the following program and run it using 4 as the first value and 10 as the second value.\n",
    "\n",
    "```Python\n",
    "first = input(\"Input a number: \")\n",
    "second = input(\"Input another number: \")\n",
    "\n",
    "if first > second:\n",
    "    print(first + \" is greater than \" + second)\n",
    "elif first < second:\n",
    "    print(second + \" is greater than \" + first)\n",
    "else:\n",
    "    print(\"They are the same number!\")\n",
    "```\n",
    "\n",
    "Does the program produce the expected result?\n",
    "\n",
    "Run it a few more times with other values to identify the problem and then fix the code so that it works as expected."
   ]
  },
  {
   "cell_type": "code",
   "execution_count": 24,
   "metadata": {},
   "outputs": [
    {
     "name": "stdout",
     "output_type": "stream",
     "text": [
      "10.0 is greater than 4.0\n"
     ]
    }
   ],
   "source": [
    "first = float(input(\"Input a number: \"))\n",
    "second = float(input(\"Input another number: \"))\n",
    "\n",
    "if first > second:\n",
    "    print(f\"{first} is greater than {second}\")\n",
    "elif first < second:\n",
    "    print(f\"{second} is greater than {first}\")\n",
    "else:\n",
    "    print(\"They are the same number!\")"
   ]
  },
  {
   "cell_type": "markdown",
   "metadata": {},
   "source": [
    "### Activity 7\n",
    "Create a computer program that completes the following tasks:\n",
    "\n",
    "1. It prompts the user for a series of 5 integers.\n",
    "   - The user must be prompted for 5 numbers.\n",
    "2. After the fifth entry, the program stops prompting for values and performs the following calculations:\n",
    "   - the product of the integers\n",
    "   - the average of the integers\n",
    "   - the sum of the integers\n",
    "3. After performing the calculations, the program should display the following to the user:\n",
    "   - the values the user entered\n",
    "   - each of the calculations, using a phrase that identifies the value\n"
   ]
  },
  {
   "cell_type": "code",
   "execution_count": 28,
   "metadata": {},
   "outputs": [
    {
     "name": "stdout",
     "output_type": "stream",
     "text": [
      "Given the series of numbers: [3.2, 5.6, 2.7, 9.1, 3.6]\n",
      "The prodcut in the series is: 1585.06\n",
      "The average of the series is: 4.84\n",
      "The sum of the series is: 24.2\n"
     ]
    }
   ],
   "source": [
    "series = input(\"Please enter a series of 5 numbers separated by spaces: \").split(\" \")\n",
    "series = [float(i) for i in series][:5]\n",
    "\n",
    "print(f\"Given the series of numbers: {series}\")\n",
    "\n",
    "print(\n",
    "    f\"The prodcut in the series is: {round(series[0] * series[1] * series[2] * series[3] * series[4], 3)}\"\n",
    ")\n",
    "print(f\"The average of the series is: {round(sum(series)/5, 3)}\")\n",
    "print(f\"The sum of the series is: {round(sum(series), 3)}\")"
   ]
  },
  {
   "cell_type": "markdown",
   "metadata": {},
   "source": [
    "### Activity 8\n",
    "Create a computer program that prompts the user for a number and calculates the following:\n",
    "\n",
    "- the boolean of that number.\n",
    "- the binary equivalent of that number.\n",
    "- the square root of that number.\n",
    "\n",
    "The program should display the following to the user:\n",
    "\n",
    "- The number the user entered, in a phrase like, \"You selected `<value>`.\"\n",
    "- The boolean of the number, in a phrase like, \"The boolean of your number is `<value>`.\"\n",
    "- The binary equivalent of the number, in a phrase like, \"The binary equivalent of your number is `<value>`.\"\n",
    "- The square root of the number, in a phrase like, \"The square root of your number is `<value>`.\", with the value rounded to three decimal places.\n"
   ]
  },
  {
   "cell_type": "code",
   "execution_count": 33,
   "metadata": {},
   "outputs": [
    {
     "name": "stdout",
     "output_type": "stream",
     "text": [
      "You selected 99\n",
      "The boolean of your number is True\n",
      "The binary equivalent of your number is 0b1100011\n",
      "The square root of your number is 9.95\n"
     ]
    }
   ],
   "source": [
    "num = int(input(\"Please enter a number: \"))\n",
    "\n",
    "print(f\"You selected {num}\")\n",
    "print(f\"The boolean of your number is {bool(num)}\")\n",
    "print(f\"The binary equivalent of your number is {bin(num)}\")\n",
    "print(f\"The square root of your number is {round(num**0.5, 3)}\")"
   ]
  },
  {
   "cell_type": "markdown",
   "metadata": {},
   "source": [
    "### Activity 9\n",
    "Create a computer program that asks the user a few True/False statements to which the user will respond either True or False.\n",
    "\n",
    "As an example, the program might as the user a question like \"Oceans contain salt water\", which is a True statement, or \"Sharks are mammals\", which is a False statement.\n",
    "\n",
    "Display all the questions with the correct answer and the user's answers at the end of the program.\n",
    "\n"
   ]
  },
  {
   "cell_type": "code",
   "execution_count": 34,
   "metadata": {},
   "outputs": [
    {
     "name": "stdout",
     "output_type": "stream",
     "text": [
      "Your results were Q1) False Q2) False Q3) True\n"
     ]
    }
   ],
   "source": [
    "q1 = input(\"Is a raven like a writing desk? (yes/no): \").lower() == \"?\"\n",
    "q2 = input(\"Do you like green eggs and ham? (yes/no): \").lower() == \"no\"\n",
    "q3 = input(\"Do you like the taste of heavy water? (yes/no): \").lower() == \"yes\"\n",
    "\n",
    "print(f\"Your results were Q1) {q1} Q2) {q2} Q3) {q3}\")"
   ]
  },
  {
   "cell_type": "markdown",
   "metadata": {},
   "source": [
    "### Activity 10\n",
    "Write a program that performs the following steps:\n",
    "\n",
    "1. Start with a street address that includes a building/house number, the name of the street, and the type of street (e.g., Street, Avenue, Boulevard, etc.).\n",
    "    - You can use any address you wish and abbreviations are acceptable.\n",
    "    - An example is 25 Main Street.\n",
    "2. Display the full address to the user.\n",
    "3. Display the house number only in a phrase like, \"The building or house number is 25.\"\n",
    "4. Display the street name in a phrase like, \"The street name is Main Street.\"\n"
   ]
  },
  {
   "cell_type": "code",
   "execution_count": 36,
   "metadata": {},
   "outputs": [
    {
     "name": "stdout",
     "output_type": "stream",
     "text": [
      "Given the full street address: 62 Strathearn Road\n",
      "The house number is: 62\n",
      "The street name is: Strathearn Road\n"
     ]
    }
   ],
   "source": [
    "street = \"62 Strathearn Road\".split(\" \")\n",
    "\n",
    "print(f\"Given the full street address: {' '.join(street)}\")\n",
    "print(f\"The house number is: {street[0]}\")\n",
    "print(f\"The street name is: {' '.join(street[1:])}\")"
   ]
  },
  {
   "cell_type": "markdown",
   "metadata": {},
   "source": [
    "### Activity 11\n",
    "Write a program that performs the following steps:\n",
    "\n",
    "1. Start with a Contact entry that includes the following pieces of information:\n",
    "    - A person's first and last name, e.g., Robert Taylor\n",
    "    - A complete street address, e.g., 25 Main Street\n",
    "    - A city, state, and zip, e.g., Paterson NJ 07501\n",
    "    - A 10-digit phone number, e.g., 201-857-5309\n",
    "2. Display the complete Contact data to the user.\n",
    "3. Prompt the user to select one item in the Contact data that they want to change.\n",
    "4. Prompt the user for the new value for that item.\n",
    "5. Change the Contact data appropriately and display the updated Contact data to the user.\n"
   ]
  },
  {
   "cell_type": "code",
   "execution_count": 47,
   "metadata": {},
   "outputs": [
    {
     "name": "stdout",
     "output_type": "stream",
     "text": [
      "Given the following contact information:\n",
      "First Name: Jameson\n",
      "Last Name: Jones\n",
      "Address: 99 Oregano Boulevard, Little Dallas, Texas, 97201\n",
      "Phone Number: 666-666-6666\n",
      "\n",
      "The updated contact information is:\n",
      "First Name: Jerry\n",
      "Last Name: Jones\n",
      "Address: 99 Oregano Boulevard, Little Dallas, Texas, 97201\n",
      "Phone Number: 666-666-6666\n"
     ]
    }
   ],
   "source": [
    "def printContact(contact):\n",
    "    print(f\"First Name: {contact['firstname']}\")\n",
    "    print(f\"Last Name: {contact['lastname']}\")\n",
    "    print(\n",
    "        f\"Address: {contact['streetaddress']}, {contact['city']}, {contact['state']}, {contact['zipcode']}\"\n",
    "    )\n",
    "    print(f\"Phone Number: {contact['phonenumber']}\")\n",
    "\n",
    "\n",
    "contact = {\n",
    "    \"firstname\": \"Jameson\",\n",
    "    \"lastname\": \"Jones\",\n",
    "    \"streetaddress\": \"99 Oregano Boulevard\",\n",
    "    \"city\": \"Little Dallas\",\n",
    "    \"state\": \"Texas\",\n",
    "    \"zipcode\": \"97201\",\n",
    "    \"phonenumber\": \"666-666-6666\",\n",
    "}\n",
    "\n",
    "print(\"Given the following contact information:\")\n",
    "printContact(contact)\n",
    "\n",
    "\n",
    "def editContact(contact):\n",
    "    edit = (\n",
    "        input(\"What would you like to edit in this contact: \").lower().replace(\" \", \"\")\n",
    "    )\n",
    "    if edit == \"firstname\":\n",
    "        contact[\"firstname\"] = input(\"Please enter the new first name: \")\n",
    "    elif edit == \"lastname\":\n",
    "        contact[\"lastname\"] = input(\"Please enter the new last name: \")\n",
    "    elif edit == \"address\":\n",
    "        contact[\"streetaddress\"] = input(\"Please enter the new street address: \")\n",
    "        contact[\"city\"] = input(\"Please enter the new city: \")\n",
    "        contact[\"state\"] = input(\"Please enter the new state: \")\n",
    "        contact[\"zipcode\"] = input(\"Please enter the new zipcode: \")\n",
    "    elif edit == \"phonenumber\":\n",
    "        contact[\"phonenumber\"] = input(\"Please enter the new phone number: \")\n",
    "    else:\n",
    "        print(\"Invalid edit option\")\n",
    "    return contact\n",
    "\n",
    "\n",
    "print(\"\\nThe updated contact information is:\")\n",
    "printContact(editContact(contact))"
   ]
  },
  {
   "cell_type": "markdown",
   "metadata": {},
   "source": [
    "### Activity 12\n",
    "Write a program that allows a user to create a new Contact, including a first and last name, complete street address, city, state, zip, phone number, and email address.\n",
    "\n",
    "Display the contact to the user after accepting all entries.\n",
    "\n"
   ]
  },
  {
   "cell_type": "code",
   "execution_count": 50,
   "metadata": {},
   "outputs": [
    {
     "name": "stdout",
     "output_type": "stream",
     "text": [
      "\n",
      "The new contact information is:\n",
      "Enter details for a new contact:\n"
     ]
    },
    {
     "name": "stdout",
     "output_type": "stream",
     "text": [
      "First Name: Garble\n",
      "Last Name: Dook\n",
      "Address: Eastward, North Pole, Antartica, 00045\n",
      "Phone Number: +42 0003\n"
     ]
    }
   ],
   "source": [
    "def createContact():\n",
    "    contact = {}\n",
    "\n",
    "    print(\"Enter details for a new contact:\")\n",
    "\n",
    "    contact[\"firstname\"] = input(\"Please enter the new first name: \")\n",
    "    contact[\"lastname\"] = input(\"Please enter the new last name: \")\n",
    "    contact[\"streetaddress\"] = input(\"Please enter the new street address: \")\n",
    "    contact[\"city\"] = input(\"Please enter the new city: \")\n",
    "    contact[\"state\"] = input(\"Please enter the new state: \")\n",
    "    contact[\"zipcode\"] = input(\"Please enter the new zipcode: \")\n",
    "    contact[\"phonenumber\"] = input(\"Please enter the new phone number: \")\n",
    "    return contact\n",
    "\n",
    "\n",
    "print(\"\\nThe new contact information is:\")\n",
    "printContact(createContact())"
   ]
  },
  {
   "cell_type": "markdown",
   "metadata": {},
   "source": [
    "### Activity 13\n",
    "Combine the previous two activities into a single program that performs the following steps:\n",
    "\n",
    "1. Prompt the user for complete Contact details for a new contact.\n",
    "2. Displays the Contact details entered by the user.\n",
    "3. Prompts the user to select a value to change.\n",
    "4. Updates the selected value with a new input value.\n"
   ]
  },
  {
   "cell_type": "code",
   "execution_count": 51,
   "metadata": {},
   "outputs": [
    {
     "name": "stdout",
     "output_type": "stream",
     "text": [
      "Enter details for a new contact:\n",
      "\n",
      "The new contact information is:\n",
      "First Name: Modular\n",
      "Last Name: Async\n",
      "Address: 7th Processor, Node 13, Central Processing Unit, 0x0010101001011\n",
      "Phone Number: 0x16bfff4\n",
      "\n",
      "The updated contact information is:\n",
      "First Name: Modular\n",
      "Last Name: Async\n",
      "Address: 3rd Processor, Node 13, Central Processing Unity, 01010101001001111\n",
      "Phone Number: 0x16bfff4\n"
     ]
    }
   ],
   "source": [
    "newcontact = createContact()\n",
    "print(\"\\nThe new contact information is:\")\n",
    "printContact(newcontact)\n",
    "\n",
    "editedcontact = editContact(newcontact)\n",
    "print(\"\\nThe updated contact information is:\")\n",
    "printContact(editedcontact)"
   ]
  }
 ],
 "metadata": {
  "kernelspec": {
   "display_name": "Python 3",
   "language": "python",
   "name": "python3"
  },
  "language_info": {
   "codemirror_mode": {
    "name": "ipython",
    "version": 3
   },
   "file_extension": ".py",
   "mimetype": "text/x-python",
   "name": "python",
   "nbconvert_exporter": "python",
   "pygments_lexer": "ipython3",
   "version": "3.11.4"
  }
 },
 "nbformat": 4,
 "nbformat_minor": 2
}
